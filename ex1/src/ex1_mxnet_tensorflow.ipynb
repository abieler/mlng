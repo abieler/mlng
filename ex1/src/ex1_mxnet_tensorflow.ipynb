{
 "cells": [
  {
   "cell_type": "markdown",
   "metadata": {},
   "source": [
    "Machine Learning Online Class Exercise 1: Linear regression with multiple variables using MXNet and TensorFlow\n",
    "\n",
    "# Optional Exercises\n",
    "You should do this part only after successfully finishing the first two notebooks, where gradient descent is implemented from scratch. This part aims at solving the same problem set, this time using modern machine learning tools available in Julia."
   ]
  },
  {
   "cell_type": "code",
   "execution_count": 1,
   "metadata": {},
   "outputs": [],
   "source": [
    "using TensorFlow\n",
    "using MLPreprocessing"
   ]
  },
  {
   "cell_type": "code",
   "execution_count": 2,
   "metadata": {},
   "outputs": [
    {
     "data": {
      "text/plain": [
       "10×2 Array{Float64,2}:\n",
       " 2104.0  3.0\n",
       " 1600.0  3.0\n",
       " 2400.0  3.0\n",
       " 1416.0  2.0\n",
       " 3000.0  4.0\n",
       " 1985.0  4.0\n",
       " 1534.0  3.0\n",
       " 1427.0  3.0\n",
       " 1380.0  3.0\n",
       " 1494.0  3.0"
      ]
     },
     "execution_count": 2,
     "metadata": {},
     "output_type": "execute_result"
    }
   ],
   "source": [
    "## Load Data\n",
    "data = readdlm(\"../data/ex1data2.txt\", ',')\n",
    "X_raw = data[:, 1:2]\n",
    "y_raw = data[:, 3]\n",
    "m = size(X_raw, 1)\n",
    "\n",
    "# Show some data points\n",
    "X_raw[1:10, :]"
   ]
  },
  {
   "cell_type": "code",
   "execution_count": 3,
   "metadata": {},
   "outputs": [],
   "source": [
    "y_raw = reshape(y_raw, (m, 1))\n",
    "X_raw = [ones(m) X_raw];"
   ]
  },
  {
   "cell_type": "code",
   "execution_count": 5,
   "metadata": {},
   "outputs": [
    {
     "name": "stdout",
     "output_type": "stream",
     "text": [
      "mean(X_norm, 1) = [1.0 2.83461e-17 2.50981e-16]\n",
      "std(X_norm, 1) = [0.0 1.0 1.0]\n"
     ]
    }
   ],
   "source": [
    "X_norm, scaler = fit_transform(StandardScaler, X_raw, obsdim=1, operate_on=[2,3])\n",
    "\n",
    "@show(mean(X_norm, 1))\n",
    "@show(std(X_norm, 1));"
   ]
  },
  {
   "cell_type": "code",
   "execution_count": 7,
   "metadata": {},
   "outputs": [
    {
     "name": "stderr",
     "output_type": "stream",
     "text": [
      "2017-10-12 10:22:46.249888: I tensorflow/core/common_runtime/gpu/gpu_device.cc:1030] Creating TensorFlow device (/gpu:0) -> (device: 0, name: GeForce GTX 1080, pci bus id: 0000:01:00.0)\n"
     ]
    },
    {
     "data": {
      "text/plain": [
       "TensorFlow.Variables.Variable{Float64}(<Tensor node_2:1 shape=(3, 1) dtype=Float64>, <Tensor node_2/Assign:1 shape=unknown dtype=Float64>)"
      ]
     },
     "execution_count": 7,
     "metadata": {},
     "output_type": "execute_result"
    }
   ],
   "source": [
    "sess = Session()\n",
    "X = placeholder(Float32)\n",
    "y = placeholder(Float32)\n",
    "\n",
    "nFeatures = size(X_norm, 2)\n",
    "theta = Variable(randn(Float32, (nFeatures, 1))*0.01)"
   ]
  },
  {
   "cell_type": "code",
   "execution_count": 17,
   "metadata": {},
   "outputs": [
    {
     "data": {
      "text/plain": [
       "<Tensor Group_10:1 shape=unknown dtype=Any>"
      ]
     },
     "execution_count": 17,
     "metadata": {},
     "output_type": "execute_result"
    }
   ],
   "source": [
    "run(sess, global_variables_initializer())\n",
    "yhat = X * theta\n",
    "loss = 1/(2*m) * reduce_sum((yhat .- y).^2)\n",
    "learning_rate = 0.01\n",
    "\n",
    "optimizer = train.GradientDescentOptimizer()\n",
    "minimization_step = train.minimize(optimizer, loss)"
   ]
  },
  {
   "cell_type": "code",
   "execution_count": 24,
   "metadata": {},
   "outputs": [
    {
     "name": "stdout",
     "output_type": "stream",
     "text": [
      "2.0432800311239314e9\n"
     ]
    }
   ],
   "source": [
    "nIterations = 500\n",
    "cost_history = zeros(nIterations)\n",
    "for i in 1:nIterations\n",
    "    cost, _ = run(sess, [loss, minimization_step], Dict(X=>X_norm, y=>y_raw))\n",
    "    cost_history[i] = cost\n",
    "end\n",
    "\n",
    "println(cost_history[nIterations])"
   ]
  },
  {
   "cell_type": "code",
   "execution_count": 25,
   "metadata": {},
   "outputs": [
    {
     "ename": "LoadError",
     "evalue": "\u001b[91mUndefVarError: plot not defined\u001b[39m",
     "output_type": "error",
     "traceback": [
      "\u001b[91mUndefVarError: plot not defined\u001b[39m",
      ""
     ]
    }
   ],
   "source": [
    "plot(cost_history/1e10, yaxis=(:log))"
   ]
  },
  {
   "cell_type": "code",
   "execution_count": 94,
   "metadata": {},
   "outputs": [
    {
     "data": {
      "text/plain": [
       "3×1 Array{Float64,2}:\n",
       "     3.40413e5\n",
       "     1.10631e5\n",
       " -6649.48     "
      ]
     },
     "execution_count": 94,
     "metadata": {},
     "output_type": "execute_result"
    }
   ],
   "source": [
    "theta_opt = run(sess, theta)"
   ]
  },
  {
   "cell_type": "code",
   "execution_count": 95,
   "metadata": {},
   "outputs": [
    {
     "data": {
      "text/plain": [
       "2.0432800110914547e9"
      ]
     },
     "execution_count": 95,
     "metadata": {},
     "output_type": "execute_result"
    }
   ],
   "source": []
  },
  {
   "cell_type": "code",
   "execution_count": null,
   "metadata": {
    "collapsed": true
   },
   "outputs": [],
   "source": []
  }
 ],
 "metadata": {
  "kernelspec": {
   "display_name": "Julia 0.6.0",
   "language": "julia",
   "name": "julia-0.6"
  },
  "language_info": {
   "file_extension": ".jl",
   "mimetype": "application/julia",
   "name": "julia",
   "version": "0.6.0"
  }
 },
 "nbformat": 4,
 "nbformat_minor": 2
}
