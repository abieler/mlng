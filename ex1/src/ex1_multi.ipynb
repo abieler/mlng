{
 "cells": [
  {
   "cell_type": "markdown",
   "metadata": {},
   "source": [
    "  Machine Learning Online Class\n",
    "  Exercise 1: Linear regression with multiple variables\n",
    "\n",
    "# Instructions\n",
    "\n",
    " \n",
    "  This file contains code that helps you get started on the\n",
    "  linear regression exercise. \n",
    "\n",
    "  You will need to complete the following functions in this \n",
    "  exericse:\n",
    "\n",
    "     feature_normalize()\n",
    "     compute_cost_multi()\n",
    "     gradient_descent_multi!()\n",
    "     normal_eqn()\n",
    "\n",
    "  For this part of the exercise, you will need to change some\n",
    "  parts of the code below for various experiments (e.g., changing\n",
    "  learning rates).\n"
   ]
  },
  {
   "cell_type": "code",
   "execution_count": 1,
   "metadata": {
    "collapsed": false
   },
   "outputs": [
    {
     "data": {
      "text/plain": [
       "Plots.GRBackend()"
      ]
     },
     "execution_count": 1,
     "metadata": {},
     "output_type": "execute_result"
    }
   ],
   "source": [
    "using Plots\n",
    "gr()"
   ]
  },
  {
   "cell_type": "markdown",
   "metadata": {},
   "source": [
    "# User function definitions"
   ]
  },
  {
   "cell_type": "code",
   "execution_count": 2,
   "metadata": {
    "collapsed": false
   },
   "outputs": [
    {
     "data": {
      "text/plain": [
       "normal_eqn (generic function with 1 method)"
      ]
     },
     "execution_count": 2,
     "metadata": {},
     "output_type": "execute_result"
    }
   ],
   "source": [
    "function feature_normalize(X)\n",
    "    #   feature_normalize returns a normalized version of X where\n",
    "    #   the mean value of each feature is 0 and the standard deviation\n",
    "    #   is 1. This is often a good preprocessing step to do when\n",
    "    #   working with learning algorithms.\n",
    "\n",
    "    # You need to set these values correctly\n",
    "    X_norm = zeros(X)\n",
    "    mu = zeros(size(X, 2))\n",
    "    sigma = zeros(size(X, 2))\n",
    "    \n",
    "    # Instructions: First, for each feature dimension, compute the mean\n",
    "    #               of the feature and subtract it from the dataset,\n",
    "    #               storing the mean value in mu. Next, compute the \n",
    "    #               standard deviation of each feature and divide\n",
    "    #               each feature by it's standard deviation, storing\n",
    "    #               the standard deviation in sigma. \n",
    "    #\n",
    "    #               Note that X is a matrix where each column is a \n",
    "    #               feature and each row is an example. You need \n",
    "    #               to perform the normalization separately for \n",
    "    #               each feature.\n",
    "    #\n",
    "    # Hint: You might find the built in 'mean' and 'std' functions useful.\n",
    "    \n",
    "    # ====================== YOUR CODE HERE ======================\n",
    "    mu = mean(X, 1)\n",
    "    sigma = std(X, 1)\n",
    "    X_norm = (X .- mu) ./ sigma\n",
    "    # ============================================================\n",
    "    return X_norm, mu, sigma\n",
    "end\n",
    "\n",
    "\n",
    "function compute_cost_multi(X, y, theta)\n",
    "  # Compute cost for linear regression\n",
    "  # Computes the cost J of using theta as the\n",
    "  # parameter for linear regression to fit the data points in X and y\n",
    "\n",
    "  # Instructions: Compute the cost of a particular choice of theta\n",
    "  #               You should set J to the cost.\n",
    "  \n",
    "  # Initialize some useful values, such as the number of training examples m.\n",
    "  m = length(y)\n",
    "\n",
    "\n",
    "  # ====================== YOUR CODE HERE ======================\n",
    "  h = X * theta;\n",
    "  J = 1/(2*m) * sum((h .- y).^2)\n",
    "  # ============================================================\n",
    "  return J\n",
    "end\n",
    "\n",
    "\n",
    "function gradient_descent_multi!(theta, X, y, alpha, num_iters)\n",
    "    \n",
    "    # Initialize some useful values\n",
    "    m, n = size(X)\n",
    "    J_history = zeros(num_iters)\n",
    "    d_theta = zeros(n)\n",
    "    \n",
    "    # Hint: Perform a loop over num_iters and fill in values \n",
    "    #       J_history[iter] = compute_cost_multi(X, y, theta)\n",
    "\n",
    "\n",
    "    # ====================== YOUR CODE HERE ======================\n",
    "    for iter in 1:num_iters\n",
    "        h = X * theta\n",
    "\n",
    "        for j in 1:n\n",
    "              x = X[: ,j]\n",
    "              d_theta[j] = -alpha/m * sum((h .- y) .* x)\n",
    "        end\n",
    "        theta[:,:] += d_theta\n",
    "        J_history[iter] = compute_cost_multi(X, y, theta)\n",
    "    end\n",
    "    # ============================================================\n",
    "\n",
    "    return J_history\n",
    "end\n",
    "\n",
    "\n",
    "function normal_eqn(X, y)\n",
    "    # ====================== YOUR CODE HERE ======================\n",
    "    theta = pinv(X' * X) * X' * y;\n",
    "    # ============================================================\n",
    "end"
   ]
  },
  {
   "cell_type": "markdown",
   "metadata": {},
   "source": [
    "# Part 1: Feature Normalization\n",
    "Complete the code in **feature_normalize()** to compute the normalized data set X, its mean mu, and standard deviation sigma."
   ]
  },
  {
   "cell_type": "code",
   "execution_count": 3,
   "metadata": {
    "collapsed": false
   },
   "outputs": [
    {
     "name": "stdout",
     "output_type": "stream",
     "text": [
      "First 10 examples from the dataset:\n"
     ]
    },
    {
     "data": {
      "text/plain": [
       "10×2 Array{Float64,2}:\n",
       " 2104.0  3.0\n",
       " 1600.0  3.0\n",
       " 2400.0  3.0\n",
       " 1416.0  2.0\n",
       " 3000.0  4.0\n",
       " 1985.0  4.0\n",
       " 1534.0  3.0\n",
       " 1427.0  3.0\n",
       " 1380.0  3.0\n",
       " 1494.0  3.0"
      ]
     },
     "execution_count": 3,
     "metadata": {},
     "output_type": "execute_result"
    }
   ],
   "source": [
    "## Load Data\n",
    "data = readdlm(\"ex1data2.txt\", ',')\n",
    "x = data[:, 1:2]\n",
    "y = data[:, 3]\n",
    "m = length(y)\n",
    "\n",
    "# Print out some data points\n",
    "println(\"First 10 examples from the dataset:\")\n",
    "x[1:10, :]"
   ]
  },
  {
   "cell_type": "code",
   "execution_count": 4,
   "metadata": {
    "collapsed": false
   },
   "outputs": [],
   "source": [
    "x_norm, mu, sigma = feature_normalize(x)\n",
    "\n",
    "# Add intercept term to x_norm\n",
    "X = [ones(m) x_norm];"
   ]
  },
  {
   "cell_type": "markdown",
   "metadata": {},
   "source": [
    "# Part 2: Gradient Descent\n",
    "Complete the code in **gradient_descent_multi()**. In a first step you must be able to compute the cost for multi dimensional X, **compute_cost_multi()**. If necessary adapt the *compute_cost(_)* function from ex1.ipynb such that it can handle multi dimensional X.\n",
    "\n",
    "In a second step write up the code to perform gradient descent on this data in function *gradient_descent_multi!()*. The exclamation point at the end of the function name is a Julia convention for in-place functions. This means that functions ending with ! modify one or more of their input parameters. In this case you should write up code that modifies the input parameter theta. As a hint you can orient yourself at the version of gradient descent in *grad_descent.jl*, but now make a call to your *compute_cost_multi()* function that you implemented before."
   ]
  },
  {
   "cell_type": "code",
   "execution_count": 5,
   "metadata": {
    "collapsed": false
   },
   "outputs": [
    {
     "name": "stdout",
     "output_type": "stream",
     "text": [
      "theta = [3.40411e5; 1.10308e5; -6326.54]\n"
     ]
    }
   ],
   "source": [
    "# Choose some alpha value\n",
    "alpha = 0.03;\n",
    "num_iters = 400;\n",
    "\n",
    "# Init Theta and Run Gradient Descent\n",
    "theta = zeros(3, 1);\n",
    "J_history = gradient_descent_multi!(theta, X, y, alpha, num_iters);\n",
    "@show(theta);"
   ]
  },
  {
   "cell_type": "code",
   "execution_count": 6,
   "metadata": {
    "collapsed": false
   },
   "outputs": [
    {
     "name": "stderr",
     "output_type": "stream",
     "text": [
      "/home/abieler/.julia/v0.5/Conda/deps/usr/lib/python2.7/site-packages/matplotlib/font_manager.py:1288: UserWarning: findfont: Font family [u'Helvetica'] not found. Falling back to Bitstream Vera Sans\n",
      "  (prop.get_family(), self.defaultFamily[fontext]))\n"
     ]
    },
    {
     "data": {
      "text/html": [
       "<img src=\"data:image/png;base64,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\" />"
      ]
     },
     "execution_count": 6,
     "metadata": {},
     "output_type": "execute_result"
    }
   ],
   "source": [
    "plot(J_history, width=2, show=true)"
   ]
  },
  {
   "cell_type": "code",
   "execution_count": 7,
   "metadata": {
    "collapsed": false
   },
   "outputs": [
    {
     "name": "stdout",
     "output_type": "stream",
     "text": [
      "Predicted price of a 1650 sq-ft, 3 br house (using gradient descent): 293149.9943294969\n"
     ]
    }
   ],
   "source": [
    "# Estimate the price of a 1650 sq-ft, 3 br house\n",
    "# Recall that the first column of X is all-ones. Thus, it does\n",
    "# not need to be normalized.\n",
    "\n",
    "price = 0  # You should change this\n",
    "\n",
    "# ====================== YOUR CODE HERE ======================\n",
    "x_new = [1650.0, 3.0]'\n",
    "x_new = (x_new .- mu) ./ sigma\n",
    "x_new = [1 x_new]\n",
    "price = dot(x_new, theta)\n",
    "# ============================================================\n",
    "\n",
    "println(\"Predicted price of a 1650 sq-ft, 3 br house (using gradient descent): $price\");"
   ]
  },
  {
   "cell_type": "markdown",
   "metadata": {},
   "source": [
    "# Part 3: Normal Equations\n",
    "\n",
    "Instructions: The following code computes the closed form solution for linear regression using the normal equations. You should complete the code in **normal_eqn()** After doing so, you should complete this code to predict the price of a 1650 sq-ft, 3 br house."
   ]
  },
  {
   "cell_type": "code",
   "execution_count": 8,
   "metadata": {
    "collapsed": false
   },
   "outputs": [
    {
     "name": "stdout",
     "output_type": "stream",
     "text": [
      "theta = [89597.9,139.211,-8738.02]\n",
      "Predicted price of a 1650 sq-ft, 3 br house (using normal eqn): 293081.4643349723\n"
     ]
    }
   ],
   "source": [
    "# Load Data\n",
    "data = readdlm(\"ex1data2.txt\", ',')\n",
    "X = data[:, 1:2]\n",
    "y = data[:, 3]\n",
    "m = length(y)\n",
    "\n",
    "# Add intercept term to X\n",
    "X = [ones(m) X];\n",
    "\n",
    "theta = normal_eqn(X, y)\n",
    "x_new = [1, 1650, 3]\n",
    "price = dot(x_new, theta)\n",
    "\n",
    "@show(theta)\n",
    "println(\"Predicted price of a 1650 sq-ft, 3 br house (using normal eqn): $price\");"
   ]
  },
  {
   "cell_type": "code",
   "execution_count": null,
   "metadata": {
    "collapsed": true
   },
   "outputs": [],
   "source": [
    "\n"
   ]
  }
 ],
 "metadata": {
  "kernelspec": {
   "display_name": "Julia 0.5.0",
   "language": "julia",
   "name": "julia-0.5"
  },
  "language_info": {
   "file_extension": ".jl",
   "mimetype": "application/julia",
   "name": "julia",
   "version": "0.5.0"
  }
 },
 "nbformat": 4,
 "nbformat_minor": 2
}
